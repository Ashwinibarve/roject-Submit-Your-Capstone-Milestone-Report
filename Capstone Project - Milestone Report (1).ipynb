{
 "cells": [
  {
   "cell_type": "code",
   "execution_count": null,
   "metadata": {},
   "outputs": [],
   "source": []
  },
  {
   "cell_type": "code",
   "execution_count": null,
   "metadata": {},
   "outputs": [],
   "source": []
  },
  {
   "cell_type": "markdown",
   "metadata": {},
   "source": [
    " ####In this project I am going to work on \n",
    " \n",
    "**Problem :\n",
    "Prediction of the stock market is one of the most difficult things to do. There are so many factors involved in the prediction- physical\n",
    "factors vs. physiological, rational, and irrational behavior etc. All these aspects combine to make share prices volatile and difficult \n",
    "to predict with a high degree of accuracy. \n",
    "Solution :\n",
    "In this project I am going to build a model to predict the movement of the stock price. To solve this problem, I am going to implement a \n",
    "mix of machine learning algorithms to predict the future stock price of the company, starting with linear regression,mean value plot\n",
    "outoregression model,\n",
    "and then move on to Auto ARIMA, Prophet.\n",
    "Dataset :\n",
    "In this project I will work with historical data about the stock prices of the publicly listed companies.\n",
    "For this purpose I will be using dataset from Kaggle : \"Huge stock market Dataset\".\n",
    "This dataset will be analyzed using python.\n",
    "Can we use machine learning as a game changer in this domain? Using features like the latest announcements about an organization,\n",
    "their quarterly revenue results, etc., machine learning techniques have the potential to unearth patterns and insights we didn’t see\n",
    "before, and these can be used to make unerringly accurate predictions.we will work with historical data about the stock prices of a\n",
    "publicly listed company. We will implement a mix of machine learning algorithms to predict the future stock price of this company,\n",
    "starting with simple algorithms\n",
    "like linear regression, and then move on to advanced techniques like Auto ARIMA and prophet .\n",
    "Aslo we can compair these differnet models that which model best fits to solve aur problem**\n",
    "\n"
   ]
  },
  {
   "cell_type": "code",
   "execution_count": 1,
   "metadata": {},
   "outputs": [],
   "source": [
    "import pandas as pd\n",
    "import numpy as np\n",
    "import matplotlib.pyplot as plt\n",
    "import os\n",
    "from pandas import datetime\n",
    "from subprocess import check_output\n",
    "import seaborn as sns\n",
    "from sklearn.model_selection import train_test_split\n",
    "from sklearn.linear_model import LinearRegression\n",
    "from sklearn.metrics import r2_score\n"
   ]
  },
  {
   "cell_type": "code",
   "execution_count": 2,
   "metadata": {},
   "outputs": [
    {
     "name": "stdout",
     "output_type": "stream",
     "text": [
      "['ETFs', 'Stocks']\n"
     ]
    }
   ],
   "source": [
    "filename =print(os.listdir(\"C:/Users/user/Downloads/price-volume-data-for-all-us-stocks-etfs/Data/\"))\n"
   ]
  },
  {
   "cell_type": "code",
   "execution_count": 3,
   "metadata": {},
   "outputs": [
    {
     "data": {
      "text/html": [
       "<div>\n",
       "<style scoped>\n",
       "    .dataframe tbody tr th:only-of-type {\n",
       "        vertical-align: middle;\n",
       "    }\n",
       "\n",
       "    .dataframe tbody tr th {\n",
       "        vertical-align: top;\n",
       "    }\n",
       "\n",
       "    .dataframe thead th {\n",
       "        text-align: right;\n",
       "    }\n",
       "</style>\n",
       "<table border=\"1\" class=\"dataframe\">\n",
       "  <thead>\n",
       "    <tr style=\"text-align: right;\">\n",
       "      <th></th>\n",
       "      <th>Date</th>\n",
       "      <th>Open</th>\n",
       "      <th>High</th>\n",
       "      <th>Low</th>\n",
       "      <th>Close</th>\n",
       "      <th>Volume</th>\n",
       "      <th>OpenInt</th>\n",
       "    </tr>\n",
       "  </thead>\n",
       "  <tbody>\n",
       "    <tr>\n",
       "      <th>0</th>\n",
       "      <td>1986-03-13</td>\n",
       "      <td>0.06720</td>\n",
       "      <td>0.07533</td>\n",
       "      <td>0.06720</td>\n",
       "      <td>0.07533</td>\n",
       "      <td>1371330506</td>\n",
       "      <td>0</td>\n",
       "    </tr>\n",
       "    <tr>\n",
       "      <th>1</th>\n",
       "      <td>1986-03-14</td>\n",
       "      <td>0.07533</td>\n",
       "      <td>0.07533</td>\n",
       "      <td>0.07533</td>\n",
       "      <td>0.07533</td>\n",
       "      <td>409569463</td>\n",
       "      <td>0</td>\n",
       "    </tr>\n",
       "    <tr>\n",
       "      <th>2</th>\n",
       "      <td>1986-03-17</td>\n",
       "      <td>0.07533</td>\n",
       "      <td>0.07533</td>\n",
       "      <td>0.07533</td>\n",
       "      <td>0.07533</td>\n",
       "      <td>176995245</td>\n",
       "      <td>0</td>\n",
       "    </tr>\n",
       "    <tr>\n",
       "      <th>3</th>\n",
       "      <td>1986-03-18</td>\n",
       "      <td>0.07533</td>\n",
       "      <td>0.07533</td>\n",
       "      <td>0.07533</td>\n",
       "      <td>0.07533</td>\n",
       "      <td>90067008</td>\n",
       "      <td>0</td>\n",
       "    </tr>\n",
       "    <tr>\n",
       "      <th>4</th>\n",
       "      <td>1986-03-19</td>\n",
       "      <td>0.07533</td>\n",
       "      <td>0.07533</td>\n",
       "      <td>0.07533</td>\n",
       "      <td>0.07533</td>\n",
       "      <td>63655515</td>\n",
       "      <td>0</td>\n",
       "    </tr>\n",
       "  </tbody>\n",
       "</table>\n",
       "</div>"
      ],
      "text/plain": [
       "         Date     Open     High      Low    Close      Volume  OpenInt\n",
       "0  1986-03-13  0.06720  0.07533  0.06720  0.07533  1371330506        0\n",
       "1  1986-03-14  0.07533  0.07533  0.07533  0.07533   409569463        0\n",
       "2  1986-03-17  0.07533  0.07533  0.07533  0.07533   176995245        0\n",
       "3  1986-03-18  0.07533  0.07533  0.07533  0.07533    90067008        0\n",
       "4  1986-03-19  0.07533  0.07533  0.07533  0.07533    63655515        0"
      ]
     },
     "execution_count": 3,
     "metadata": {},
     "output_type": "execute_result"
    }
   ],
   "source": [
    "microsoft = pd.read_csv(\"C:/Users/user/Downloads/price-volume-data-for-all-us-stocks-etfs/Data/Stocks/msft.us.txt\")\n",
    "microsoft.head()\n"
   ]
  },
  {
   "cell_type": "code",
   "execution_count": 4,
   "metadata": {
    "scrolled": true
   },
   "outputs": [
    {
     "name": "stdout",
     "output_type": "stream",
     "text": [
      "            Date   Open    High      Low  Close    Volume  OpenInt\n",
      "7978  2017-11-06  84.20  84.700  84.0825  84.47  19852151        0\n",
      "7979  2017-11-07  84.77  84.900  83.9300  84.26  17927878        0\n",
      "7980  2017-11-08  84.14  84.610  83.8300  84.56  18029584        0\n",
      "7981  2017-11-09  84.11  84.270  82.9000  84.09  21175384        0\n",
      "7982  2017-11-10  83.79  84.095  83.2300  83.87  19396301        0\n"
     ]
    }
   ],
   "source": [
    "print(microsoft.tail())"
   ]
  },
  {
   "cell_type": "code",
   "execution_count": 5,
   "metadata": {},
   "outputs": [
    {
     "name": "stdout",
     "output_type": "stream",
     "text": [
      "Index(['Date', 'Open', 'High', 'Low', 'Close', 'Volume', 'OpenInt'], dtype='object')\n"
     ]
    }
   ],
   "source": [
    "print(microsoft.columns)\n"
   ]
  },
  {
   "cell_type": "code",
   "execution_count": 6,
   "metadata": {},
   "outputs": [
    {
     "name": "stdout",
     "output_type": "stream",
     "text": [
      "(7983, 7)\n"
     ]
    }
   ],
   "source": [
    "print(microsoft.shape)"
   ]
  },
  {
   "cell_type": "code",
   "execution_count": 7,
   "metadata": {},
   "outputs": [
    {
     "name": "stdout",
     "output_type": "stream",
     "text": [
      "<class 'pandas.core.frame.DataFrame'>\n",
      "RangeIndex: 7983 entries, 0 to 7982\n",
      "Data columns (total 7 columns):\n",
      "Date       7983 non-null object\n",
      "Open       7983 non-null float64\n",
      "High       7983 non-null float64\n",
      "Low        7983 non-null float64\n",
      "Close      7983 non-null float64\n",
      "Volume     7983 non-null int64\n",
      "OpenInt    7983 non-null int64\n",
      "dtypes: float64(4), int64(2), object(1)\n",
      "memory usage: 436.6+ KB\n",
      "None\n"
     ]
    }
   ],
   "source": [
    "print(microsoft.info())"
   ]
  },
  {
   "cell_type": "code",
   "execution_count": 8,
   "metadata": {},
   "outputs": [
    {
     "data": {
      "text/html": [
       "<div>\n",
       "<style scoped>\n",
       "    .dataframe tbody tr th:only-of-type {\n",
       "        vertical-align: middle;\n",
       "    }\n",
       "\n",
       "    .dataframe tbody tr th {\n",
       "        vertical-align: top;\n",
       "    }\n",
       "\n",
       "    .dataframe thead th {\n",
       "        text-align: right;\n",
       "    }\n",
       "</style>\n",
       "<table border=\"1\" class=\"dataframe\">\n",
       "  <thead>\n",
       "    <tr style=\"text-align: right;\">\n",
       "      <th></th>\n",
       "      <th>Open</th>\n",
       "      <th>High</th>\n",
       "      <th>Low</th>\n",
       "      <th>Close</th>\n",
       "      <th>Volume</th>\n",
       "      <th>OpenInt</th>\n",
       "    </tr>\n",
       "  </thead>\n",
       "  <tbody>\n",
       "    <tr>\n",
       "      <th>count</th>\n",
       "      <td>7983.000000</td>\n",
       "      <td>7983.000000</td>\n",
       "      <td>7983.000000</td>\n",
       "      <td>7983.000000</td>\n",
       "      <td>7.983000e+03</td>\n",
       "      <td>7983.0</td>\n",
       "    </tr>\n",
       "    <tr>\n",
       "      <th>mean</th>\n",
       "      <td>18.977859</td>\n",
       "      <td>19.187219</td>\n",
       "      <td>18.773635</td>\n",
       "      <td>18.984698</td>\n",
       "      <td>7.945800e+07</td>\n",
       "      <td>0.0</td>\n",
       "    </tr>\n",
       "    <tr>\n",
       "      <th>std</th>\n",
       "      <td>16.416068</td>\n",
       "      <td>16.552604</td>\n",
       "      <td>16.277882</td>\n",
       "      <td>16.424012</td>\n",
       "      <td>5.214889e+07</td>\n",
       "      <td>0.0</td>\n",
       "    </tr>\n",
       "    <tr>\n",
       "      <th>min</th>\n",
       "      <td>0.067200</td>\n",
       "      <td>0.067200</td>\n",
       "      <td>0.067200</td>\n",
       "      <td>0.067200</td>\n",
       "      <td>0.000000e+00</td>\n",
       "      <td>0.0</td>\n",
       "    </tr>\n",
       "    <tr>\n",
       "      <th>25%</th>\n",
       "      <td>2.113300</td>\n",
       "      <td>2.155100</td>\n",
       "      <td>2.079700</td>\n",
       "      <td>2.113300</td>\n",
       "      <td>4.910587e+07</td>\n",
       "      <td>0.0</td>\n",
       "    </tr>\n",
       "    <tr>\n",
       "      <th>50%</th>\n",
       "      <td>20.462000</td>\n",
       "      <td>20.697000</td>\n",
       "      <td>20.251000</td>\n",
       "      <td>20.469000</td>\n",
       "      <td>7.059385e+07</td>\n",
       "      <td>0.0</td>\n",
       "    </tr>\n",
       "    <tr>\n",
       "      <th>75%</th>\n",
       "      <td>25.475000</td>\n",
       "      <td>25.754000</td>\n",
       "      <td>25.233000</td>\n",
       "      <td>25.483500</td>\n",
       "      <td>9.734927e+07</td>\n",
       "      <td>0.0</td>\n",
       "    </tr>\n",
       "    <tr>\n",
       "      <th>max</th>\n",
       "      <td>84.770000</td>\n",
       "      <td>86.200000</td>\n",
       "      <td>84.082500</td>\n",
       "      <td>84.560000</td>\n",
       "      <td>1.371331e+09</td>\n",
       "      <td>0.0</td>\n",
       "    </tr>\n",
       "  </tbody>\n",
       "</table>\n",
       "</div>"
      ],
      "text/plain": [
       "              Open         High          Low        Close        Volume  \\\n",
       "count  7983.000000  7983.000000  7983.000000  7983.000000  7.983000e+03   \n",
       "mean     18.977859    19.187219    18.773635    18.984698  7.945800e+07   \n",
       "std      16.416068    16.552604    16.277882    16.424012  5.214889e+07   \n",
       "min       0.067200     0.067200     0.067200     0.067200  0.000000e+00   \n",
       "25%       2.113300     2.155100     2.079700     2.113300  4.910587e+07   \n",
       "50%      20.462000    20.697000    20.251000    20.469000  7.059385e+07   \n",
       "75%      25.475000    25.754000    25.233000    25.483500  9.734927e+07   \n",
       "max      84.770000    86.200000    84.082500    84.560000  1.371331e+09   \n",
       "\n",
       "       OpenInt  \n",
       "count   7983.0  \n",
       "mean       0.0  \n",
       "std        0.0  \n",
       "min        0.0  \n",
       "25%        0.0  \n",
       "50%        0.0  \n",
       "75%        0.0  \n",
       "max        0.0  "
      ]
     },
     "execution_count": 8,
     "metadata": {},
     "output_type": "execute_result"
    }
   ],
   "source": [
    "microsoft.describe()"
   ]
  },
  {
   "cell_type": "markdown",
   "metadata": {},
   "source": [
    "#### 1) Linear Regression\n",
    "\n",
    "**The most basic machine learning algorithm that can be implemented on this data is linear regression. The linear regression model\n",
    "returns an equation that determines the relationship between the independent variables and the dependent variable.**\n"
   ]
  },
  {
   "cell_type": "code",
   "execution_count": 9,
   "metadata": {},
   "outputs": [
    {
     "data": {
      "text/html": [
       "<div>\n",
       "<style scoped>\n",
       "    .dataframe tbody tr th:only-of-type {\n",
       "        vertical-align: middle;\n",
       "    }\n",
       "\n",
       "    .dataframe tbody tr th {\n",
       "        vertical-align: top;\n",
       "    }\n",
       "\n",
       "    .dataframe thead th {\n",
       "        text-align: right;\n",
       "    }\n",
       "</style>\n",
       "<table border=\"1\" class=\"dataframe\">\n",
       "  <thead>\n",
       "    <tr style=\"text-align: right;\">\n",
       "      <th></th>\n",
       "      <th>Date</th>\n",
       "      <th>Open</th>\n",
       "      <th>High</th>\n",
       "      <th>Low</th>\n",
       "      <th>Close</th>\n",
       "      <th>Volume</th>\n",
       "      <th>OpenInt</th>\n",
       "    </tr>\n",
       "  </thead>\n",
       "  <tbody>\n",
       "    <tr>\n",
       "      <th>0</th>\n",
       "      <td>1986-03-13</td>\n",
       "      <td>0.06720</td>\n",
       "      <td>0.07533</td>\n",
       "      <td>0.06720</td>\n",
       "      <td>0.07533</td>\n",
       "      <td>1371330506</td>\n",
       "      <td>0</td>\n",
       "    </tr>\n",
       "    <tr>\n",
       "      <th>1</th>\n",
       "      <td>1986-03-14</td>\n",
       "      <td>0.07533</td>\n",
       "      <td>0.07533</td>\n",
       "      <td>0.07533</td>\n",
       "      <td>0.07533</td>\n",
       "      <td>409569463</td>\n",
       "      <td>0</td>\n",
       "    </tr>\n",
       "    <tr>\n",
       "      <th>2</th>\n",
       "      <td>1986-03-17</td>\n",
       "      <td>0.07533</td>\n",
       "      <td>0.07533</td>\n",
       "      <td>0.07533</td>\n",
       "      <td>0.07533</td>\n",
       "      <td>176995245</td>\n",
       "      <td>0</td>\n",
       "    </tr>\n",
       "    <tr>\n",
       "      <th>3</th>\n",
       "      <td>1986-03-18</td>\n",
       "      <td>0.07533</td>\n",
       "      <td>0.07533</td>\n",
       "      <td>0.07533</td>\n",
       "      <td>0.07533</td>\n",
       "      <td>90067008</td>\n",
       "      <td>0</td>\n",
       "    </tr>\n",
       "    <tr>\n",
       "      <th>4</th>\n",
       "      <td>1986-03-19</td>\n",
       "      <td>0.07533</td>\n",
       "      <td>0.07533</td>\n",
       "      <td>0.07533</td>\n",
       "      <td>0.07533</td>\n",
       "      <td>63655515</td>\n",
       "      <td>0</td>\n",
       "    </tr>\n",
       "  </tbody>\n",
       "</table>\n",
       "</div>"
      ],
      "text/plain": [
       "         Date     Open     High      Low    Close      Volume  OpenInt\n",
       "0  1986-03-13  0.06720  0.07533  0.06720  0.07533  1371330506        0\n",
       "1  1986-03-14  0.07533  0.07533  0.07533  0.07533   409569463        0\n",
       "2  1986-03-17  0.07533  0.07533  0.07533  0.07533   176995245        0\n",
       "3  1986-03-18  0.07533  0.07533  0.07533  0.07533    90067008        0\n",
       "4  1986-03-19  0.07533  0.07533  0.07533  0.07533    63655515        0"
      ]
     },
     "execution_count": 9,
     "metadata": {},
     "output_type": "execute_result"
    }
   ],
   "source": [
    "\n",
    "# Prices is the predict value and initial the independet variable (y)\n",
    "prices = microsoft['Close'].tolist()\n",
    "initial = (microsoft['Open']).tolist()\n",
    "\n",
    "\n",
    "#Convert to 1d Vector\n",
    "prices = np.reshape(prices, (len(prices), 1))\n",
    "initial = np.reshape(initial, (len(initial), 1))\n",
    "\n",
    "microsoft.head(5)\n"
   ]
  },
  {
   "cell_type": "code",
   "execution_count": 10,
   "metadata": {},
   "outputs": [
    {
     "data": {
      "image/png": "[encoded data removed]",
      "text/plain": [
       "<Figure size 432x288 with 1 Axes>"
      ]
     },
     "metadata": {
      "needs_background": "light"
     },
     "output_type": "display_data"
    },
    {
     "data": {
      "image/png": "[encoded data removed]",
      "text/plain": [
       "<Figure size 432x288 with 1 Axes>"
      ]
     },
     "metadata": {
      "needs_background": "light"
     },
     "output_type": "display_data"
    }
   ],
   "source": [
    "# First, let's check the correlation between the features of the dataset of microsoft.\n",
    "microsoft[['Open']].plot()\n",
    "plt.title('microsoft Open Price')\n",
    "plt.show()\n",
    "\n",
    "microsoft[['Close']].plot()\n",
    "plt.title('microsoft Close Price')\n",
    "plt.show()"
   ]
  },
  {
   "cell_type": "code",
   "execution_count": 11,
   "metadata": {},
   "outputs": [],
   "source": [
    "# from both the figures above, we clearly state that there is perfect positive correlation bwtween 'open' and 'close'.\n"
   ]
  },
  {
   "cell_type": "code",
   "execution_count": 12,
   "metadata": {},
   "outputs": [
    {
     "data": {
      "text/plain": [
       "<matplotlib.axes._subplots.AxesSubplot at 0x26cf570a358>"
      ]
     },
     "execution_count": 12,
     "metadata": {},
     "output_type": "execute_result"
    },
    {
     "data": {
      "image/png": "[encoded data removed]",
      "text/plain": [
       "<Figure size 576x432 with 2 Axes>"
      ]
     },
     "metadata": {
      "needs_background": "light"
     },
     "output_type": "display_data"
    }
   ],
   "source": [
    "# lets check value of the correlation.\n",
    "plt.subplots(figsize=(8,6))\n",
    "sns.heatmap(microsoft.corr(),annot=True, linewidth=.5,)"
   ]
  },
  {
   "cell_type": "code",
   "execution_count": 13,
   "metadata": {},
   "outputs": [
    {
     "data": {
      "text/plain": [
       "Text(0, 0.5, 'Density')"
      ]
     },
     "execution_count": 13,
     "metadata": {},
     "output_type": "execute_result"
    },
    {
     "data": {
      "image/png": "[encoded data removed]",
      "text/plain": [
       "<Figure size 432x288 with 1 Axes>"
      ]
     },
     "metadata": {
      "needs_background": "light"
     },
     "output_type": "display_data"
    }
   ],
   "source": [
    "sns.distplot(microsoft['Open'], hist = False, kde = True, kde_kws = {'linewidth': 5},label='Open',) \n",
    "sns.distplot(microsoft['Close'], hist = False, kde = True, kde_kws = {'linewidth': 3},label='Close') \n",
    "\n",
    "plt.legend(prop={'size': 10}, title = 'Types',loc= 'best')\n",
    "plt.title('Density Plot the Open and Close of the stock prices')\n",
    "plt.xlabel('Prices')\n",
    "plt.ylabel('Density')"
   ]
  },
  {
   "cell_type": "code",
   "execution_count": 14,
   "metadata": {},
   "outputs": [
    {
     "name": "stdout",
     "output_type": "stream",
     "text": [
      "Train-set / R2 score: 0.9995674475972668\n"
     ]
    },
    {
     "data": {
      "image/png": "[encoded data removed]",
      "text/plain": [
       "<Figure size 432x288 with 1 Axes>"
      ]
     },
     "metadata": {
      "needs_background": "light"
     },
     "output_type": "display_data"
    },
    {
     "name": "stdout",
     "output_type": "stream",
     "text": [
      "Test-set/ R2 score: 0.9995580968269052\n"
     ]
    },
    {
     "data": {
      "image/png": "[encoded data removed]",
      "text/plain": [
       "<Figure size 432x288 with 1 Axes>"
      ]
     },
     "metadata": {
      "needs_background": "light"
     },
     "output_type": "display_data"
    }
   ],
   "source": [
    "#Splitting the dataset into the Training set and Test set\n",
    "xtrain, xtest, ytrain, ytest = train_test_split(initial, prices, test_size=0.33, random_state=42)\n",
    "regressor = LinearRegression()\n",
    "regressor.fit(xtrain, ytrain)\n",
    " \n",
    "#Train Set Graph\n",
    "print('Train-set /','R2 score:',r2_score(ytrain,regressor.predict(xtrain)))\n",
    "plt.scatter(xtrain, ytrain, color='red', label= 'Actual Price') #plotting the initial datapoints\n",
    "plt.plot(xtrain, regressor.predict(xtrain), color='blue', linewidth=3, label = 'Predicted Price') #plotting the line made by linear regression\n",
    "plt.title('Linear Regression price| Open vs. Close')\n",
    "plt.legend()\n",
    "plt.xlabel('Prices')\n",
    "plt.show()\n",
    " \n",
    "#Test Set Graph\n",
    "print('Test-set/','R2 score:',r2_score(ytest,regressor.predict(xtest)))\n",
    "plt.scatter(xtest, ytest, color='red', label= 'Actual Price') #plotting the initial datapoints\n",
    "plt.plot(xtest, regressor.predict(xtest), color='blue', linewidth=3, label = 'Predicted Price') #plotting the line made by linear regression\n",
    "plt.title('Linear Regression price| Open vs. Close')\n",
    "plt.legend()\n",
    "plt.xlabel('Prices')\n",
    "plt.show()"
   ]
  },
  {
   "cell_type": "markdown",
   "metadata": {},
   "source": [
    "#### 2) Moving Average \n",
    "**‘Average’ is easily one of the most common things we use in our day-to-day lives. For instance, calculating the average marks \n",
    " to determine overall performance, or finding the average temperature of the past few days to get an idea about today’s\n",
    " temperature – these all are routine tasks we do on a regular basis.\n",
    " So this is a good starting point to use on our dataset for making predictions.\n",
    " The predicted closing price for each day will be the average of a set of previously observed values.\n",
    " Instead of using the simple average, we will be using the moving average technique which uses the latest set of values\n",
    " for each prediction. In other words, for each subsequent step, the predicted values are taken into consideration while\n",
    " removing the oldest observed value from the set \n",
    " The first step is to create a dataframe that contains only the Date and Close price columns, then split it into train and\n",
    " validation sets to verify our predictions**"
   ]
  },
  {
   "cell_type": "code",
   "execution_count": 15,
   "metadata": {},
   "outputs": [],
   "source": [
    "\n",
    "# creating dataframe with date and target variable.\n",
    "data = microsoft.sort_index(ascending=True, axis=0)\n",
    "new_data = pd.DataFrame(index=range(0,len(microsoft)),columns=['Date', 'Close'])\n",
    "\n",
    "for i in range(0,len(data)):\n",
    "     new_data['Date'][i] = data['Date'][i]\n",
    "     new_data['Close'][i] = data['Close'][i]"
   ]
  },
  {
   "cell_type": "code",
   "execution_count": 16,
   "metadata": {},
   "outputs": [],
   "source": [
    "#splitting into train and validation\n",
    "train = new_data[:4000]\n",
    "valid = new_data[4000:]"
   ]
  },
  {
   "cell_type": "code",
   "execution_count": 17,
   "metadata": {},
   "outputs": [
    {
     "data": {
      "text/plain": [
       "((7983, 2), (4000, 2), (3983, 2))"
      ]
     },
     "execution_count": 17,
     "metadata": {},
     "output_type": "execute_result"
    }
   ],
   "source": [
    "new_data.shape, train.shape, valid.shape"
   ]
  },
  {
   "cell_type": "code",
   "execution_count": 18,
   "metadata": {},
   "outputs": [
    {
     "data": {
      "text/plain": [
       "('1986-03-13', '2002-01-17', '2002-01-18', '2017-11-10')"
      ]
     },
     "execution_count": 18,
     "metadata": {},
     "output_type": "execute_result"
    }
   ],
   "source": [
    "train['Date'].min(), train['Date'].max(), valid['Date'].min(), valid['Date'].max()\n"
   ]
  },
  {
   "cell_type": "code",
   "execution_count": 19,
   "metadata": {},
   "outputs": [],
   "source": [
    "#make predictions\n",
    "preds = []\n",
    "for i in range(0,3983):\n",
    "    a = train['Close'][len(train)-3983+i:].sum() + sum(preds)\n",
    "    b = a/3983\n",
    "    preds.append(b)"
   ]
  },
  {
   "cell_type": "code",
   "execution_count": 20,
   "metadata": {},
   "outputs": [
    {
     "data": {
      "text/plain": [
       "21.434580096982078"
      ]
     },
     "execution_count": 20,
     "metadata": {},
     "output_type": "execute_result"
    }
   ],
   "source": [
    "#calculate rmse\n",
    "rms=np.sqrt(np.mean(np.power((np.array(valid['Close'])-preds),2)))\n",
    "rms"
   ]
  },
  {
   "cell_type": "code",
   "execution_count": 21,
   "metadata": {},
   "outputs": [
    {
     "name": "stderr",
     "output_type": "stream",
     "text": [
      "C:\\Users\\user\\Anaconda3\\lib\\site-packages\\ipykernel_launcher.py:2: SettingWithCopyWarning: \n",
      "A value is trying to be set on a copy of a slice from a DataFrame.\n",
      "Try using .loc[row_indexer,col_indexer] = value instead\n",
      "\n",
      "See the caveats in the documentation: http://pandas.pydata.org/pandas-docs/stable/indexing.html#indexing-view-versus-copy\n",
      "  \n",
      "C:\\Users\\user\\Anaconda3\\lib\\site-packages\\ipykernel_launcher.py:3: SettingWithCopyWarning: \n",
      "A value is trying to be set on a copy of a slice from a DataFrame.\n",
      "Try using .loc[row_indexer,col_indexer] = value instead\n",
      "\n",
      "See the caveats in the documentation: http://pandas.pydata.org/pandas-docs/stable/indexing.html#indexing-view-versus-copy\n",
      "  This is separate from the ipykernel package so we can avoid doing imports until\n"
     ]
    },
    {
     "data": {
      "text/plain": [
       "[<matplotlib.lines.Line2D at 0x26cf5b334e0>,\n",
       " <matplotlib.lines.Line2D at 0x26cf5b9e1d0>]"
      ]
     },
     "execution_count": 21,
     "metadata": {},
     "output_type": "execute_result"
    },
    {
     "data": {
      "image/png": "[encoded data removed]",
      "text/plain": [
       "<Figure size 432x288 with 1 Axes>"
      ]
     },
     "metadata": {
      "needs_background": "light"
     },
     "output_type": "display_data"
    }
   ],
   "source": [
    "#plot\n",
    "valid['Predictions'] = 0\n",
    "valid['Predictions'] = preds\n",
    "plt.plot(train['Close'])\n",
    "plt.plot(valid[['Close', 'Predictions']])"
   ]
  },
  {
   "cell_type": "code",
   "execution_count": null,
   "metadata": {},
   "outputs": [],
   "source": []
  },
  {
   "cell_type": "markdown",
   "metadata": {},
   "source": [
    "### Auto ARIMA\n",
    "**Introduction\n",
    "ARIMA is a very popular statistical method for time series forecasting. ARIMA models take into account the past values\n",
    "to predict the future values. There are three important parameters in ARIMA:\n",
    "p (past values used for forecasting the next value)\n",
    "q (past forecast errors used to predict the future values)\n",
    "d (order of differencing)\n",
    "Parameter tuning for ARIMA consumes a lot of time. So we will use auto ARIMA which automatically \n",
    "selects the best combination of (p,q,d) that provides the least error**"
   ]
  },
  {
   "cell_type": "code",
   "execution_count": 22,
   "metadata": {},
   "outputs": [
    {
     "name": "stdout",
     "output_type": "stream",
     "text": [
      "Fit ARIMA: order=(1, 1, 1) seasonal_order=(0, 1, 1, 12); AIC=3830.493, BIC=3861.947, Fit time=121.830 seconds\n",
      "Fit ARIMA: order=(0, 1, 0) seasonal_order=(0, 1, 0, 12); AIC=6381.686, BIC=6394.267, Fit time=4.722 seconds\n",
      "Fit ARIMA: order=(1, 1, 0) seasonal_order=(1, 1, 0, 12); AIC=5393.987, BIC=5419.151, Fit time=24.902 seconds\n",
      "Fit ARIMA: order=(0, 1, 1) seasonal_order=(0, 1, 1, 12); AIC=3810.636, BIC=3835.799, Fit time=104.774 seconds\n",
      "Fit ARIMA: order=(0, 1, 1) seasonal_order=(1, 1, 1, 12); AIC=3809.007, BIC=3840.461, Fit time=124.747 seconds\n",
      "Fit ARIMA: order=(0, 1, 1) seasonal_order=(1, 1, 0, 12); AIC=5394.247, BIC=5419.411, Fit time=20.050 seconds\n",
      "Fit ARIMA: order=(0, 1, 1) seasonal_order=(1, 1, 2, 12); AIC=3811.353, BIC=3849.098, Fit time=252.774 seconds\n",
      "Fit ARIMA: order=(0, 1, 1) seasonal_order=(0, 1, 0, 12); AIC=6381.485, BIC=6400.357, Fit time=5.198 seconds\n",
      "Fit ARIMA: order=(0, 1, 1) seasonal_order=(2, 1, 2, 12); AIC=3812.232, BIC=3856.268, Fit time=424.043 seconds\n",
      "Fit ARIMA: order=(1, 1, 1) seasonal_order=(1, 1, 1, 12); AIC=3821.371, BIC=3859.116, Fit time=145.081 seconds\n",
      "Fit ARIMA: order=(0, 1, 0) seasonal_order=(1, 1, 1, 12); AIC=3806.936, BIC=3832.100, Fit time=79.424 seconds\n",
      "Fit ARIMA: order=(0, 1, 0) seasonal_order=(0, 1, 1, 12); AIC=3808.652, BIC=3827.524, Fit time=58.762 seconds\n",
      "Fit ARIMA: order=(0, 1, 0) seasonal_order=(2, 1, 1, 12); AIC=3804.975, BIC=3836.429, Fit time=227.389 seconds\n",
      "Fit ARIMA: order=(0, 1, 0) seasonal_order=(2, 1, 0, 12); AIC=4883.984, BIC=4909.147, Fit time=43.595 seconds\n",
      "Fit ARIMA: order=(0, 1, 0) seasonal_order=(2, 1, 2, 12); AIC=3810.237, BIC=3847.982, Fit time=366.269 seconds\n",
      "Fit ARIMA: order=(0, 1, 0) seasonal_order=(1, 1, 0, 12); AIC=5398.568, BIC=5417.440, Fit time=19.085 seconds\n",
      "Fit ARIMA: order=(1, 1, 0) seasonal_order=(2, 1, 1, 12); AIC=3806.937, BIC=3844.682, Fit time=371.772 seconds\n",
      "Fit ARIMA: order=(0, 1, 1) seasonal_order=(2, 1, 1, 12); AIC=3806.977, BIC=3844.722, Fit time=238.156 seconds\n",
      "Fit ARIMA: order=(1, 1, 1) seasonal_order=(2, 1, 1, 12); AIC=3856.318, BIC=3900.354, Fit time=309.947 seconds\n",
      "Total fit time: 2942.564 seconds\n"
     ]
    }
   ],
   "source": [
    "# Auto ARIMA \n",
    "from pmdarima.arima import auto_arima\n",
    "\n",
    "data = microsoft.sort_index(ascending=True, axis=0)\n",
    "\n",
    "train = data[:4000]\n",
    "valid = data[4000:]\n",
    "\n",
    "training = train['Close']\n",
    "validation = valid['Close']\n",
    "\n",
    "model = auto_arima(training, start_p=1, start_q=1,max_p=3, max_q=3, m=12,start_P=0, seasonal=True,d=1, D=1, trace=True,error_action='ignore',suppress_warnings=True)\n",
    "model.fit(training)\n",
    "\n",
    "forecast = model.predict(n_periods=3983)\n",
    "forecast = pd.DataFrame(forecast,index = valid.index,columns=['Prediction'])\n",
    "\n"
   ]
  },
  {
   "cell_type": "code",
   "execution_count": 25,
   "metadata": {},
   "outputs": [
    {
     "data": {
      "text/plain": [
       "33.653093560534444"
      ]
     },
     "execution_count": 25,
     "metadata": {},
     "output_type": "execute_result"
    }
   ],
   "source": [
    "rms=np.sqrt(np.mean(np.power((np.array(valid['Close'])-np.array(forecast['Prediction'])),2)))\n",
    "rms"
   ]
  },
  {
   "cell_type": "code",
   "execution_count": 26,
   "metadata": {},
   "outputs": [
    {
     "data": {
      "text/plain": [
       "[<matplotlib.lines.Line2D at 0x26cebc4ada0>]"
      ]
     },
     "execution_count": 26,
     "metadata": {},
     "output_type": "execute_result"
    },
    {
     "data": {
      "image/png": "[encoded data removed]",
      "text/plain": [
       "<Figure size 432x288 with 1 Axes>"
      ]
     },
     "metadata": {
      "needs_background": "light"
     },
     "output_type": "display_data"
    }
   ],
   "source": [
    "#plot\n",
    "plt.plot(train['Close'])\n",
    "plt.plot(valid['Close'])\n",
    "plt.plot(forecast['Prediction'])"
   ]
  },
  {
   "cell_type": "markdown",
   "metadata": {},
   "source": [
    "Conclusion : \n",
    "**Moving Average model works quite good for this dataset.This model take few seconds to run with minimum computational\n",
    "requrements.**\n",
    "\n",
    "**Linear regression is a simple technique and quite easy to interpret.It takes very few time and computational requrements are\n",
    "less and no need to train the data.**\n",
    "\n",
    "**An auto ARIMA model uses past data to understand the pattern in the time series. Using these values, the model\n",
    "captured an increasing trend in the series. for this model we need to train the data It takes more time to run the model** \n",
    "**as compaired to others (about 10 mins).**\n",
    "**from figure we can clearly state that this this model is not that much accurate than other models for this dataset.**\n"
   ]
  },
  {
   "cell_type": "code",
   "execution_count": null,
   "metadata": {},
   "outputs": [],
   "source": []
  }
 ],
 "metadata": {
  "kernelspec": {
   "display_name": "Python 3",
   "language": "python",
   "name": "python3"
  },
  "language_info": {
   "codemirror_mode": {
    "name": "ipython",
    "version": 3
   },
   "file_extension": ".py",
   "mimetype": "text/x-python",
   "name": "python",
   "nbconvert_exporter": "python",
   "pygments_lexer": "ipython3",
   "version": "3.7.3"
  }
 },
 "nbformat": 4,
 "nbformat_minor": 2
}
